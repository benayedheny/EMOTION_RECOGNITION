{
 "nbformat": 4,
 "nbformat_minor": 0,
 "metadata": {
  "kernelspec": {
   "display_name": "Python 3",
   "language": "python",
   "name": "python3"
  },
  "language_info": {
   "codemirror_mode": {
    "name": "ipython",
    "version": 3
   },
   "file_extension": ".py",
   "mimetype": "text/x-python",
   "name": "python",
   "nbconvert_exporter": "python",
   "pygments_lexer": "ipython3",
   "version": "3.7.3"
  },
  "colab": {
   "name": "8.0 Case Study 1 - Human Resources Retention.ipynb",
   "provenance": [
    {
     "file_id": "19UpKFF1-Y2GBoy1ugpgufQf6Rx4KeJuO",
     "timestamp": 1573154961639
    }
   ],
   "collapsed_sections": []
  }
 },
 "cells": [
  {
   "cell_type": "code",
   "execution_count": 9,
   "outputs": [],
   "source": [
    "import seaborn as sns\n",
    "import numpy as np\n",
    "import pandas as pd\n",
    "import matplotlib.pyplot as plt\n",
    "from sklearn.ensemble import RandomForestClassifier\n",
    "from sklearn.metrics import confusion_matrix\n",
    "from sklearn.metrics import classification_report\n",
    "from sklearn.metrics import accuracy_score"
   ],
   "metadata": {
    "collapsed": false,
    "pycharm": {
     "name": "#%%\n"
    }
   }
  },
  {
   "cell_type": "code",
   "execution_count": 10,
   "outputs": [
    {
     "data": {
      "text/plain": "         id        d0        d1        d2        d3        d4        d5  \\\n0  10118481  0.380106  0.348021  0.299160  0.250793  0.254492  0.240445   \n1  10120469  0.311002  0.272447  0.231935  0.185900  0.199802  0.198825   \n2  10131352       NaN       NaN       NaN       NaN       NaN       NaN   \n3  10161559  0.284867  0.249970  0.193271  0.138756  0.152207  0.172866   \n4   1021836  0.377440  0.342185  0.287144  0.223227  0.198685  0.200168   \n\n         d6        d7        d8  ...       d51       d52       d53       d54  \\\n0  0.208501  0.241401  0.263303  ...  0.164181  0.112841  0.046555  0.053474   \n1  0.191371  0.220092  0.230186  ...  0.161576  0.103059  0.079105  0.088599   \n2       NaN       NaN       NaN  ...       NaN       NaN       NaN       NaN   \n3  0.140559  0.169266  0.171820  ...  0.183529  0.111915  0.094234  0.128893   \n4  0.221059  0.284502  0.341772  ...  0.217035  0.155439  0.156955  0.220011   \n\n        d55       d56       d57       d58       d59  class  \n0  0.202719  0.135361  0.086261  0.116328  0.100941  Angry  \n1  0.171182  0.114073  0.041964  0.085051  0.077860  Angry  \n2       NaN       NaN       NaN       NaN       NaN  Angry  \n3  0.156798  0.115935  0.021351  0.113588  0.068529  Angry  \n4  0.182061  0.095076  0.100465  0.121072  0.120199  Angry  \n\n[5 rows x 62 columns]",
      "text/html": "<div>\n<style scoped>\n    .dataframe tbody tr th:only-of-type {\n        vertical-align: middle;\n    }\n\n    .dataframe tbody tr th {\n        vertical-align: top;\n    }\n\n    .dataframe thead th {\n        text-align: right;\n    }\n</style>\n<table border=\"1\" class=\"dataframe\">\n  <thead>\n    <tr style=\"text-align: right;\">\n      <th></th>\n      <th>id</th>\n      <th>d0</th>\n      <th>d1</th>\n      <th>d2</th>\n      <th>d3</th>\n      <th>d4</th>\n      <th>d5</th>\n      <th>d6</th>\n      <th>d7</th>\n      <th>d8</th>\n      <th>...</th>\n      <th>d51</th>\n      <th>d52</th>\n      <th>d53</th>\n      <th>d54</th>\n      <th>d55</th>\n      <th>d56</th>\n      <th>d57</th>\n      <th>d58</th>\n      <th>d59</th>\n      <th>class</th>\n    </tr>\n  </thead>\n  <tbody>\n    <tr>\n      <th>0</th>\n      <td>10118481</td>\n      <td>0.380106</td>\n      <td>0.348021</td>\n      <td>0.299160</td>\n      <td>0.250793</td>\n      <td>0.254492</td>\n      <td>0.240445</td>\n      <td>0.208501</td>\n      <td>0.241401</td>\n      <td>0.263303</td>\n      <td>...</td>\n      <td>0.164181</td>\n      <td>0.112841</td>\n      <td>0.046555</td>\n      <td>0.053474</td>\n      <td>0.202719</td>\n      <td>0.135361</td>\n      <td>0.086261</td>\n      <td>0.116328</td>\n      <td>0.100941</td>\n      <td>Angry</td>\n    </tr>\n    <tr>\n      <th>1</th>\n      <td>10120469</td>\n      <td>0.311002</td>\n      <td>0.272447</td>\n      <td>0.231935</td>\n      <td>0.185900</td>\n      <td>0.199802</td>\n      <td>0.198825</td>\n      <td>0.191371</td>\n      <td>0.220092</td>\n      <td>0.230186</td>\n      <td>...</td>\n      <td>0.161576</td>\n      <td>0.103059</td>\n      <td>0.079105</td>\n      <td>0.088599</td>\n      <td>0.171182</td>\n      <td>0.114073</td>\n      <td>0.041964</td>\n      <td>0.085051</td>\n      <td>0.077860</td>\n      <td>Angry</td>\n    </tr>\n    <tr>\n      <th>2</th>\n      <td>10131352</td>\n      <td>NaN</td>\n      <td>NaN</td>\n      <td>NaN</td>\n      <td>NaN</td>\n      <td>NaN</td>\n      <td>NaN</td>\n      <td>NaN</td>\n      <td>NaN</td>\n      <td>NaN</td>\n      <td>...</td>\n      <td>NaN</td>\n      <td>NaN</td>\n      <td>NaN</td>\n      <td>NaN</td>\n      <td>NaN</td>\n      <td>NaN</td>\n      <td>NaN</td>\n      <td>NaN</td>\n      <td>NaN</td>\n      <td>Angry</td>\n    </tr>\n    <tr>\n      <th>3</th>\n      <td>10161559</td>\n      <td>0.284867</td>\n      <td>0.249970</td>\n      <td>0.193271</td>\n      <td>0.138756</td>\n      <td>0.152207</td>\n      <td>0.172866</td>\n      <td>0.140559</td>\n      <td>0.169266</td>\n      <td>0.171820</td>\n      <td>...</td>\n      <td>0.183529</td>\n      <td>0.111915</td>\n      <td>0.094234</td>\n      <td>0.128893</td>\n      <td>0.156798</td>\n      <td>0.115935</td>\n      <td>0.021351</td>\n      <td>0.113588</td>\n      <td>0.068529</td>\n      <td>Angry</td>\n    </tr>\n    <tr>\n      <th>4</th>\n      <td>1021836</td>\n      <td>0.377440</td>\n      <td>0.342185</td>\n      <td>0.287144</td>\n      <td>0.223227</td>\n      <td>0.198685</td>\n      <td>0.200168</td>\n      <td>0.221059</td>\n      <td>0.284502</td>\n      <td>0.341772</td>\n      <td>...</td>\n      <td>0.217035</td>\n      <td>0.155439</td>\n      <td>0.156955</td>\n      <td>0.220011</td>\n      <td>0.182061</td>\n      <td>0.095076</td>\n      <td>0.100465</td>\n      <td>0.121072</td>\n      <td>0.120199</td>\n      <td>Angry</td>\n    </tr>\n  </tbody>\n</table>\n<p>5 rows × 62 columns</p>\n</div>"
     },
     "execution_count": 10,
     "metadata": {},
     "output_type": "execute_result"
    }
   ],
   "source": [
    "er_train_df = pd.read_csv('../Data/Training.csv')\n",
    "er_test_df = pd.read_csv('../Data/Testing.csv')\n",
    "er_df = pd.concat([er_train_df,er_test_df])\n",
    "er_df.head()"
   ],
   "metadata": {
    "collapsed": false,
    "pycharm": {
     "name": "#%%\n"
    }
   }
  },
  {
   "cell_type": "code",
   "execution_count": 11,
   "outputs": [
    {
     "data": {
      "text/plain": "(35887, 62)"
     },
     "execution_count": 11,
     "metadata": {},
     "output_type": "execute_result"
    }
   ],
   "source": [
    "er_df.shape"
   ],
   "metadata": {
    "collapsed": false,
    "pycharm": {
     "name": "#%%\n"
    }
   }
  },
  {
   "cell_type": "code",
   "execution_count": 12,
   "outputs": [
    {
     "name": "stdout",
     "output_type": "stream",
     "text": [
      "<class 'pandas.core.frame.DataFrame'>\n",
      "Int64Index: 35887 entries, 0 to 7177\n",
      "Data columns (total 62 columns):\n",
      " #   Column  Non-Null Count  Dtype  \n",
      "---  ------  --------------  -----  \n",
      " 0   id      35887 non-null  int64  \n",
      " 1   d0      33121 non-null  float64\n",
      " 2   d1      33121 non-null  float64\n",
      " 3   d2      33121 non-null  float64\n",
      " 4   d3      33121 non-null  float64\n",
      " 5   d4      33121 non-null  float64\n",
      " 6   d5      33121 non-null  float64\n",
      " 7   d6      33121 non-null  float64\n",
      " 8   d7      33121 non-null  float64\n",
      " 9   d8      33121 non-null  float64\n",
      " 10  d9      33121 non-null  float64\n",
      " 11  d10     33121 non-null  float64\n",
      " 12  d11     33121 non-null  float64\n",
      " 13  d12     33121 non-null  float64\n",
      " 14  d13     33121 non-null  float64\n",
      " 15  d14     33121 non-null  float64\n",
      " 16  d15     33121 non-null  float64\n",
      " 17  d16     33121 non-null  float64\n",
      " 18  d17     33121 non-null  float64\n",
      " 19  d18     33121 non-null  float64\n",
      " 20  d19     33121 non-null  float64\n",
      " 21  d20     33121 non-null  float64\n",
      " 22  d21     33121 non-null  float64\n",
      " 23  d22     33121 non-null  float64\n",
      " 24  d23     33121 non-null  float64\n",
      " 25  d24     33121 non-null  float64\n",
      " 26  d25     33121 non-null  float64\n",
      " 27  d26     33121 non-null  float64\n",
      " 28  d27     33121 non-null  float64\n",
      " 29  d28     33121 non-null  float64\n",
      " 30  d29     33121 non-null  float64\n",
      " 31  d30     33121 non-null  float64\n",
      " 32  d31     33121 non-null  float64\n",
      " 33  d32     33121 non-null  float64\n",
      " 34  d33     33121 non-null  float64\n",
      " 35  d34     33121 non-null  float64\n",
      " 36  d35     33121 non-null  float64\n",
      " 37  d36     33121 non-null  float64\n",
      " 38  d37     33121 non-null  float64\n",
      " 39  d38     33121 non-null  float64\n",
      " 40  d39     33121 non-null  float64\n",
      " 41  d40     33121 non-null  float64\n",
      " 42  d41     33121 non-null  float64\n",
      " 43  d42     33121 non-null  float64\n",
      " 44  d43     33121 non-null  float64\n",
      " 45  d44     33121 non-null  float64\n",
      " 46  d45     33121 non-null  float64\n",
      " 47  d46     33121 non-null  float64\n",
      " 48  d47     33121 non-null  float64\n",
      " 49  d48     33121 non-null  float64\n",
      " 50  d49     33121 non-null  float64\n",
      " 51  d50     33121 non-null  float64\n",
      " 52  d51     33121 non-null  float64\n",
      " 53  d52     33121 non-null  float64\n",
      " 54  d53     33121 non-null  float64\n",
      " 55  d54     33121 non-null  float64\n",
      " 56  d55     33121 non-null  float64\n",
      " 57  d56     33121 non-null  float64\n",
      " 58  d57     33121 non-null  float64\n",
      " 59  d58     33121 non-null  float64\n",
      " 60  d59     33121 non-null  float64\n",
      " 61  class   35887 non-null  object \n",
      "dtypes: float64(60), int64(1), object(1)\n",
      "memory usage: 17.2+ MB\n"
     ]
    }
   ],
   "source": [
    "er_df.info()"
   ],
   "metadata": {
    "collapsed": false,
    "pycharm": {
     "name": "#%%\n"
    }
   }
  },
  {
   "cell_type": "code",
   "execution_count": 13,
   "outputs": [],
   "source": [
    "# er_df['mouth_height_to_width_ratio']=er_df['mouth_height']/er_df['mouth_width']\n",
    "# er_df = er_df.drop(columns=['mouth_height','mouth_width'], axis=1)\n",
    "# er_df.head()"
   ],
   "metadata": {
    "collapsed": false,
    "pycharm": {
     "name": "#%%\n"
    }
   }
  },
  {
   "cell_type": "code",
   "execution_count": 14,
   "outputs": [],
   "source": [
    "# er_df['eyes_height_to_width_ratio_avg']=((er_df['left_eye_height']/er_df['left_eye_width'])+(er_df['right_eye_height']/er_df['right_eye_width']))/2\n",
    "# er_df = er_df.drop(columns=['left_eye_height','left_eye_width','right_eye_height','right_eye_width'], axis=1)\n",
    "# er_df.head()"
   ],
   "metadata": {
    "collapsed": false,
    "pycharm": {
     "name": "#%%\n"
    }
   }
  },
  {
   "cell_type": "code",
   "execution_count": 15,
   "outputs": [],
   "source": [
    "# er_df['upper_to_lower_lips_thickness_ratio']=(er_df['upper_lip_thickness']/er_df['lower_lip_thickness'])\n",
    "# er_df = er_df.drop(columns=['upper_lip_thickness','lower_lip_thickness'], axis=1)\n",
    "# er_df.head()"
   ],
   "metadata": {
    "collapsed": false,
    "pycharm": {
     "name": "#%%\n"
    }
   }
  },
  {
   "cell_type": "code",
   "execution_count": 16,
   "outputs": [],
   "source": [
    "# er_df['mouth_to_eyes_avg']=(er_df['left_mouth_to_eye']+er_df['right_mouth_to_eye'])/2\n",
    "# er_df = er_df.drop(columns=['left_mouth_to_eye','right_mouth_to_eye'], axis=1)\n",
    "# er_df.head()"
   ],
   "metadata": {
    "collapsed": false,
    "pycharm": {
     "name": "#%%\n"
    }
   }
  },
  {
   "cell_type": "code",
   "execution_count": 17,
   "outputs": [],
   "source": [
    "# er_df['outer_brows_to_outer_eyes_avg']=(er_df['left_brow_to_eye_left']+er_df['right_brow_to_eye_right'])/2\n",
    "# er_df = er_df.drop(columns=['left_brow_to_eye_left','right_brow_to_eye_right'], axis=1)\n",
    "# er_df.head()"
   ],
   "metadata": {
    "collapsed": false,
    "pycharm": {
     "name": "#%%\n"
    }
   }
  },
  {
   "cell_type": "code",
   "execution_count": 18,
   "outputs": [],
   "source": [
    "# er_df['middle_brows_to_outer_eyes_avg']=(er_df['left_brow_to_eye_middle']+er_df['right_brow_to_eye_middle'])/2\n",
    "# er_df = er_df.drop(columns=['left_brow_to_eye_middle','right_brow_to_eye_middle'], axis=1)\n",
    "# er_df.head()"
   ],
   "metadata": {
    "collapsed": false,
    "pycharm": {
     "name": "#%%\n"
    }
   }
  },
  {
   "cell_type": "code",
   "execution_count": 19,
   "outputs": [],
   "source": [
    "# er_df['inner_brows_to_outer_eyes_avg']=(er_df['left_brow_to_eye_right']+er_df['right_brow_to_eye_left'])/2\n",
    "# er_df = er_df.drop(columns=['left_brow_to_eye_right','right_brow_to_eye_left'], axis=1)\n",
    "# er_df.head()"
   ],
   "metadata": {
    "collapsed": false,
    "pycharm": {
     "name": "#%%\n"
    }
   }
  },
  {
   "cell_type": "code",
   "execution_count": 20,
   "outputs": [],
   "source": [
    "# er_df['brow_to_brow_to_brows_to_nose_ration']=er_df['brow_to_brow']/er_df['brows_to_nose']\n",
    "# er_df = er_df.drop(columns=['brow_to_brow','brows_to_nose'], axis=1)\n",
    "# er_df.head()"
   ],
   "metadata": {
    "collapsed": false,
    "pycharm": {
     "name": "#%%\n"
    }
   }
  },
  {
   "cell_type": "code",
   "execution_count": 21,
   "outputs": [],
   "source": [
    "# sns.countplot(er_df['class'],order = er_df['class'].value_counts(normalize=True).index)"
   ],
   "metadata": {
    "collapsed": false,
    "pycharm": {
     "name": "#%%\n"
    }
   }
  },
  {
   "cell_type": "code",
   "execution_count": 22,
   "outputs": [
    {
     "data": {
      "text/plain": "         id        d0        d1        d2        d3        d4        d5  \\\n0  10118481  0.380106  0.348021  0.299160  0.250793  0.254492  0.240445   \n1  10120469  0.311002  0.272447  0.231935  0.185900  0.199802  0.198825   \n2  10131352       NaN       NaN       NaN       NaN       NaN       NaN   \n3  10161559  0.284867  0.249970  0.193271  0.138756  0.152207  0.172866   \n4   1021836  0.377440  0.342185  0.287144  0.223227  0.198685  0.200168   \n\n         d6        d7        d8  ...       d51       d52       d53       d54  \\\n0  0.208501  0.241401  0.263303  ...  0.164181  0.112841  0.046555  0.053474   \n1  0.191371  0.220092  0.230186  ...  0.161576  0.103059  0.079105  0.088599   \n2       NaN       NaN       NaN  ...       NaN       NaN       NaN       NaN   \n3  0.140559  0.169266  0.171820  ...  0.183529  0.111915  0.094234  0.128893   \n4  0.221059  0.284502  0.341772  ...  0.217035  0.155439  0.156955  0.220011   \n\n        d55       d56       d57       d58       d59  class  \n0  0.202719  0.135361  0.086261  0.116328  0.100941  Angry  \n1  0.171182  0.114073  0.041964  0.085051  0.077860  Angry  \n2       NaN       NaN       NaN       NaN       NaN  Angry  \n3  0.156798  0.115935  0.021351  0.113588  0.068529  Angry  \n4  0.182061  0.095076  0.100465  0.121072  0.120199  Angry  \n\n[5 rows x 62 columns]",
      "text/html": "<div>\n<style scoped>\n    .dataframe tbody tr th:only-of-type {\n        vertical-align: middle;\n    }\n\n    .dataframe tbody tr th {\n        vertical-align: top;\n    }\n\n    .dataframe thead th {\n        text-align: right;\n    }\n</style>\n<table border=\"1\" class=\"dataframe\">\n  <thead>\n    <tr style=\"text-align: right;\">\n      <th></th>\n      <th>id</th>\n      <th>d0</th>\n      <th>d1</th>\n      <th>d2</th>\n      <th>d3</th>\n      <th>d4</th>\n      <th>d5</th>\n      <th>d6</th>\n      <th>d7</th>\n      <th>d8</th>\n      <th>...</th>\n      <th>d51</th>\n      <th>d52</th>\n      <th>d53</th>\n      <th>d54</th>\n      <th>d55</th>\n      <th>d56</th>\n      <th>d57</th>\n      <th>d58</th>\n      <th>d59</th>\n      <th>class</th>\n    </tr>\n  </thead>\n  <tbody>\n    <tr>\n      <th>0</th>\n      <td>10118481</td>\n      <td>0.380106</td>\n      <td>0.348021</td>\n      <td>0.299160</td>\n      <td>0.250793</td>\n      <td>0.254492</td>\n      <td>0.240445</td>\n      <td>0.208501</td>\n      <td>0.241401</td>\n      <td>0.263303</td>\n      <td>...</td>\n      <td>0.164181</td>\n      <td>0.112841</td>\n      <td>0.046555</td>\n      <td>0.053474</td>\n      <td>0.202719</td>\n      <td>0.135361</td>\n      <td>0.086261</td>\n      <td>0.116328</td>\n      <td>0.100941</td>\n      <td>Angry</td>\n    </tr>\n    <tr>\n      <th>1</th>\n      <td>10120469</td>\n      <td>0.311002</td>\n      <td>0.272447</td>\n      <td>0.231935</td>\n      <td>0.185900</td>\n      <td>0.199802</td>\n      <td>0.198825</td>\n      <td>0.191371</td>\n      <td>0.220092</td>\n      <td>0.230186</td>\n      <td>...</td>\n      <td>0.161576</td>\n      <td>0.103059</td>\n      <td>0.079105</td>\n      <td>0.088599</td>\n      <td>0.171182</td>\n      <td>0.114073</td>\n      <td>0.041964</td>\n      <td>0.085051</td>\n      <td>0.077860</td>\n      <td>Angry</td>\n    </tr>\n    <tr>\n      <th>2</th>\n      <td>10131352</td>\n      <td>NaN</td>\n      <td>NaN</td>\n      <td>NaN</td>\n      <td>NaN</td>\n      <td>NaN</td>\n      <td>NaN</td>\n      <td>NaN</td>\n      <td>NaN</td>\n      <td>NaN</td>\n      <td>...</td>\n      <td>NaN</td>\n      <td>NaN</td>\n      <td>NaN</td>\n      <td>NaN</td>\n      <td>NaN</td>\n      <td>NaN</td>\n      <td>NaN</td>\n      <td>NaN</td>\n      <td>NaN</td>\n      <td>Angry</td>\n    </tr>\n    <tr>\n      <th>3</th>\n      <td>10161559</td>\n      <td>0.284867</td>\n      <td>0.249970</td>\n      <td>0.193271</td>\n      <td>0.138756</td>\n      <td>0.152207</td>\n      <td>0.172866</td>\n      <td>0.140559</td>\n      <td>0.169266</td>\n      <td>0.171820</td>\n      <td>...</td>\n      <td>0.183529</td>\n      <td>0.111915</td>\n      <td>0.094234</td>\n      <td>0.128893</td>\n      <td>0.156798</td>\n      <td>0.115935</td>\n      <td>0.021351</td>\n      <td>0.113588</td>\n      <td>0.068529</td>\n      <td>Angry</td>\n    </tr>\n    <tr>\n      <th>4</th>\n      <td>1021836</td>\n      <td>0.377440</td>\n      <td>0.342185</td>\n      <td>0.287144</td>\n      <td>0.223227</td>\n      <td>0.198685</td>\n      <td>0.200168</td>\n      <td>0.221059</td>\n      <td>0.284502</td>\n      <td>0.341772</td>\n      <td>...</td>\n      <td>0.217035</td>\n      <td>0.155439</td>\n      <td>0.156955</td>\n      <td>0.220011</td>\n      <td>0.182061</td>\n      <td>0.095076</td>\n      <td>0.100465</td>\n      <td>0.121072</td>\n      <td>0.120199</td>\n      <td>Angry</td>\n    </tr>\n  </tbody>\n</table>\n<p>5 rows × 62 columns</p>\n</div>"
     },
     "execution_count": 22,
     "metadata": {},
     "output_type": "execute_result"
    }
   ],
   "source": [
    "# er_df = er_df.drop(columns='id')\n",
    "er_df.head()"
   ],
   "metadata": {
    "collapsed": false,
    "pycharm": {
     "name": "#%%\n"
    }
   }
  },
  {
   "cell_type": "code",
   "execution_count": 23,
   "outputs": [],
   "source": [
    "# for x in er_df['class'].unique():\n",
    "#     print(x)\n",
    "#     print(er_df[er_df['class']==x]['mouth_height_to_width_ratio'].mean())"
   ],
   "metadata": {
    "collapsed": false,
    "pycharm": {
     "name": "#%%\n"
    }
   }
  },
  {
   "cell_type": "code",
   "execution_count": 24,
   "outputs": [],
   "source": [
    "# df_num = er_df[er_df['class']=='Angry'].select_dtypes(include = ['float64', 'int64'])\n",
    "# df_num.hist(figsize=(10, 10), bins=50, xlabelsize=8, ylabelsize=8)"
   ],
   "metadata": {
    "collapsed": false,
    "pycharm": {
     "name": "#%%\n"
    }
   }
  },
  {
   "cell_type": "code",
   "execution_count": 25,
   "outputs": [],
   "source": [
    "# columns = [x for x in er_df.columns[1:]]\n",
    "# Emotions_Colors = {'Angry':'red', 'Happy':\"green\", 'Fear':'yellow', 'Sad':'blue', 'Neutral':'gray', 'Surprised':'orange', 'Disgusted':'purple'}\n",
    "# for col in columns:\n",
    "#     fig, ax = plt.subplots()\n",
    "#     for x in Emotions_Colors:\n",
    "#         sns.kdeplot(er_df[er_df[\"class\"]==x][col], shade=True, color=Emotions_Colors[x], label=\"Angry\", ax=ax)\n",
    "#     ax.set_xlabel(col)\n",
    "#     ax.set_ylabel(\"Density\")\n",
    "#\n",
    "#\n",
    "#"
   ],
   "metadata": {
    "collapsed": false,
    "pycharm": {
     "name": "#%%\n"
    }
   }
  },
  {
   "cell_type": "code",
   "execution_count": 26,
   "outputs": [],
   "source": [
    "# for i in range(0, len(er_df.columns), 5):\n",
    "#     sns.pairplot(data=er_df,\n",
    "#                  x_vars=er_df.columns[i:i+5],\n",
    "#                  y_vars=['class'],\n",
    "#                  )\n"
   ],
   "metadata": {
    "collapsed": false,
    "pycharm": {
     "name": "#%%\n"
    }
   }
  },
  {
   "cell_type": "code",
   "execution_count": 27,
   "outputs": [],
   "source": [
    "# corr = df_num.corr() # We already examined SalePrice correlations\n",
    "# plt.figure(figsize=(20,20))\n",
    "#\n",
    "# sns.heatmap(corr[(corr >= 0.5) | (corr <= -0.4)],\n",
    "#             cmap='viridis', vmax=1.0, vmin=-1.0, linewidths=0.1,\n",
    "#             annot=True, annot_kws={\"size\": 8}, square=True);"
   ],
   "metadata": {
    "collapsed": false,
    "pycharm": {
     "name": "#%%\n"
    }
   }
  },
  {
   "cell_type": "code",
   "execution_count": 28,
   "outputs": [],
   "source": [
    "# def ratio(df,classes):\n",
    "#     for i in classes:\n",
    "#         nulls = df[df.isnull().any(axis=1)]\n",
    "#         print(i, ' : ', len(nulls[nulls['class'] == i]), ' rows are NULL out of ', len(df[df['class'] == i]), ' rows → ', 100 * len(nulls[nulls['class'] == i]) / len(df[df['class'] == i]), '%')\n",
    "#\n",
    "# ratio(er_df,er_df['class'].unique())"
   ],
   "metadata": {
    "collapsed": false,
    "pycharm": {
     "name": "#%%\n"
    }
   }
  },
  {
   "cell_type": "code",
   "execution_count": 29,
   "outputs": [],
   "source": [
    "# er_df.describe()"
   ],
   "metadata": {
    "collapsed": false,
    "pycharm": {
     "name": "#%%\n"
    }
   }
  },
  {
   "cell_type": "code",
   "execution_count": 30,
   "outputs": [],
   "source": [
    "# er_df.groupby('class').mean()"
   ],
   "metadata": {
    "collapsed": false,
    "pycharm": {
     "name": "#%%\n"
    }
   }
  },
  {
   "cell_type": "markdown",
   "source": [
    "### Displaying Your Correlation Matrix"
   ],
   "metadata": {
    "collapsed": false
   }
  },
  {
   "cell_type": "code",
   "execution_count": 31,
   "outputs": [],
   "source": [
    "# def plot_corr(df,size=20):\n",
    "#\n",
    "#     corr = df.corr()\n",
    "#     fig, ax = plt.subplots(figsize=(size, size))\n",
    "#     ax.legend()\n",
    "#     cax = ax.matshow(corr)\n",
    "#     fig.colorbar(cax)\n",
    "#     plt.xticks(range(len(corr.columns)), corr.columns, rotation='vertical')\n",
    "#     plt.yticks(range(len(corr.columns)), corr.columns)\n",
    "#\n",
    "# plot_corr(er_df)"
   ],
   "metadata": {
    "collapsed": false,
    "pycharm": {
     "name": "#%%\n"
    }
   }
  },
  {
   "cell_type": "markdown",
   "source": [
    "## Preparing out  Dataset for ML"
   ],
   "metadata": {
    "collapsed": false
   }
  },
  {
   "cell_type": "code",
   "execution_count": 32,
   "outputs": [],
   "source": [
    "# er_df.describe()"
   ],
   "metadata": {
    "collapsed": false,
    "pycharm": {
     "name": "#%%\n"
    }
   }
  },
  {
   "cell_type": "code",
   "execution_count": 33,
   "outputs": [],
   "source": [
    "# # er_df = er_df.drop(['id'],axis=1)\n",
    "# # new_er_df = er_df.drop(['id'],axis=1)\n",
    "# # for x in new_er_df.columns:\n",
    "# #     q0=range(er_df[x].quantile(0),er_df[x].quantile(0.25),0.000000001)\n",
    "# #     q1=range(er_df[x].quantile(0.25),er_df[x].quantile(0.5))\n",
    "# #     q2=range(er_df[x].quantile(0.5),er_df[x].quantile(0.75))\n",
    "# #     q3=range(er_df[x].quantile(0.75),er_df[x].quantile(1))\n",
    "# #\n",
    "# #     # if 0 < new_er_df[x] < er_df[x].quantile(0.25):\n",
    "# #     #     new_er_df[x] = 1\n",
    "# #     # # new_er_df[x] = np.where(er_df[x].quantile(0.25) <= er_df[x] < er_df[x].quantile(0.5), 1,2)\n",
    "# #     # # new_er_df[x] = np.where(er_df[x].quantile(0.5) <= er_df[x] < er_df[x].quantile(0.75), 2,3)\n",
    "# #     # new_er_df[x] = np.where(er_df[x].quantile(0.75) <= er_df[x] < er_df[x].quantile(1), 3,4)\n",
    "# new_er_df.describe()"
   ],
   "metadata": {
    "collapsed": false,
    "pycharm": {
     "name": "#%%\n"
    }
   }
  },
  {
   "cell_type": "code",
   "execution_count": 34,
   "outputs": [],
   "source": [
    "# er_df.fillna(er_df.mean(), inplace=True)\n",
    "# new_er_df = er_df.drop(['id'],axis=1)\n",
    "# for x in new_er_df.columns[:-1]:\n",
    "#     for i in range(100):\n",
    "#         new_er_df[x][(new_er_df[x]>=er_df[x].quantile(i/100)) & (new_er_df[x]<er_df[x].quantile((i+1)/100))] = i\n",
    "# er_df = new_er_df"
   ],
   "metadata": {
    "collapsed": false,
    "pycharm": {
     "name": "#%%\n"
    }
   }
  },
  {
   "cell_type": "markdown",
   "source": [
    "## Preparing our Dataset for Machine Learning"
   ],
   "metadata": {
    "collapsed": false
   }
  },
  {
   "cell_type": "code",
   "execution_count": 35,
   "outputs": [
    {
     "data": {
      "text/plain": "          d0        d1        d2        d3        d4        d5        d6  \\\n0   0.380106  0.348021  0.299160  0.250793  0.254492  0.240445  0.208501   \n1   0.311002  0.272447  0.231935  0.185900  0.199802  0.198825  0.191371   \n2        NaN       NaN       NaN       NaN       NaN       NaN       NaN   \n3   0.284867  0.249970  0.193271  0.138756  0.152207  0.172866  0.140559   \n4   0.377440  0.342185  0.287144  0.223227  0.198685  0.200168  0.221059   \n..       ...       ...       ...       ...       ...       ...       ...   \n95  0.390988  0.349935  0.317614  0.263042  0.276332  0.284854  0.279467   \n96  0.369993  0.324752  0.269125  0.210827  0.224736  0.222158  0.217633   \n97  0.353007  0.322551  0.295687  0.244856  0.255100  0.267501  0.260225   \n98  0.447748  0.400621  0.346027  0.276598  0.285942  0.273743  0.283970   \n99  0.377280  0.341048  0.296497  0.236021  0.229281  0.238362  0.248162   \n\n          d7        d8        d9  ...       d51       d52       d53       d54  \\\n0   0.241401  0.263303  0.297498  ...  0.164181  0.112841  0.046555  0.053474   \n1   0.220092  0.230186  0.249336  ...  0.161576  0.103059  0.079105  0.088599   \n2        NaN       NaN       NaN  ...       NaN       NaN       NaN       NaN   \n3   0.169266  0.171820  0.210176  ...  0.183529  0.111915  0.094234  0.128893   \n4   0.284502  0.341772  0.375194  ...  0.217035  0.155439  0.156955  0.220011   \n..       ...       ...       ...  ...       ...       ...       ...       ...   \n95  0.341382  0.388164  0.429656  ...  0.141496  0.078040  0.108057  0.201776   \n96  0.262835  0.292034  0.323926  ...  0.216846  0.136956  0.111812  0.159105   \n97  0.323595  0.380316  0.423984  ...  0.148575  0.129971  0.152336  0.218769   \n98  0.347823  0.390250  0.428632  ...  0.237176  0.137886  0.148629  0.214727   \n99  0.310602  0.366165  0.403148  ...  0.175835  0.126003  0.135520  0.193490   \n\n         d55       d56       d57       d58       d59  class  \n0   0.202719  0.135361  0.086261  0.116328  0.100941      0  \n1   0.171182  0.114073  0.041964  0.085051  0.077860      0  \n2        NaN       NaN       NaN       NaN       NaN      0  \n3   0.156798  0.115935  0.021351  0.113588  0.068529      0  \n4   0.182061  0.095076  0.100465  0.121072  0.120199      0  \n..       ...       ...       ...       ...       ...    ...  \n95  0.222987  0.097596  0.125273  0.106331  0.113713      0  \n96  0.183178  0.129064  0.045977  0.102985  0.091534      0  \n97  0.238864  0.084082  0.143073  0.133218  0.131186      0  \n98  0.258505  0.158207  0.107690  0.143943  0.150906      0  \n99  0.214912  0.078470  0.120060  0.114204  0.123671      0  \n\n[100 rows x 61 columns]",
      "text/html": "<div>\n<style scoped>\n    .dataframe tbody tr th:only-of-type {\n        vertical-align: middle;\n    }\n\n    .dataframe tbody tr th {\n        vertical-align: top;\n    }\n\n    .dataframe thead th {\n        text-align: right;\n    }\n</style>\n<table border=\"1\" class=\"dataframe\">\n  <thead>\n    <tr style=\"text-align: right;\">\n      <th></th>\n      <th>d0</th>\n      <th>d1</th>\n      <th>d2</th>\n      <th>d3</th>\n      <th>d4</th>\n      <th>d5</th>\n      <th>d6</th>\n      <th>d7</th>\n      <th>d8</th>\n      <th>d9</th>\n      <th>...</th>\n      <th>d51</th>\n      <th>d52</th>\n      <th>d53</th>\n      <th>d54</th>\n      <th>d55</th>\n      <th>d56</th>\n      <th>d57</th>\n      <th>d58</th>\n      <th>d59</th>\n      <th>class</th>\n    </tr>\n  </thead>\n  <tbody>\n    <tr>\n      <th>0</th>\n      <td>0.380106</td>\n      <td>0.348021</td>\n      <td>0.299160</td>\n      <td>0.250793</td>\n      <td>0.254492</td>\n      <td>0.240445</td>\n      <td>0.208501</td>\n      <td>0.241401</td>\n      <td>0.263303</td>\n      <td>0.297498</td>\n      <td>...</td>\n      <td>0.164181</td>\n      <td>0.112841</td>\n      <td>0.046555</td>\n      <td>0.053474</td>\n      <td>0.202719</td>\n      <td>0.135361</td>\n      <td>0.086261</td>\n      <td>0.116328</td>\n      <td>0.100941</td>\n      <td>0</td>\n    </tr>\n    <tr>\n      <th>1</th>\n      <td>0.311002</td>\n      <td>0.272447</td>\n      <td>0.231935</td>\n      <td>0.185900</td>\n      <td>0.199802</td>\n      <td>0.198825</td>\n      <td>0.191371</td>\n      <td>0.220092</td>\n      <td>0.230186</td>\n      <td>0.249336</td>\n      <td>...</td>\n      <td>0.161576</td>\n      <td>0.103059</td>\n      <td>0.079105</td>\n      <td>0.088599</td>\n      <td>0.171182</td>\n      <td>0.114073</td>\n      <td>0.041964</td>\n      <td>0.085051</td>\n      <td>0.077860</td>\n      <td>0</td>\n    </tr>\n    <tr>\n      <th>2</th>\n      <td>NaN</td>\n      <td>NaN</td>\n      <td>NaN</td>\n      <td>NaN</td>\n      <td>NaN</td>\n      <td>NaN</td>\n      <td>NaN</td>\n      <td>NaN</td>\n      <td>NaN</td>\n      <td>NaN</td>\n      <td>...</td>\n      <td>NaN</td>\n      <td>NaN</td>\n      <td>NaN</td>\n      <td>NaN</td>\n      <td>NaN</td>\n      <td>NaN</td>\n      <td>NaN</td>\n      <td>NaN</td>\n      <td>NaN</td>\n      <td>0</td>\n    </tr>\n    <tr>\n      <th>3</th>\n      <td>0.284867</td>\n      <td>0.249970</td>\n      <td>0.193271</td>\n      <td>0.138756</td>\n      <td>0.152207</td>\n      <td>0.172866</td>\n      <td>0.140559</td>\n      <td>0.169266</td>\n      <td>0.171820</td>\n      <td>0.210176</td>\n      <td>...</td>\n      <td>0.183529</td>\n      <td>0.111915</td>\n      <td>0.094234</td>\n      <td>0.128893</td>\n      <td>0.156798</td>\n      <td>0.115935</td>\n      <td>0.021351</td>\n      <td>0.113588</td>\n      <td>0.068529</td>\n      <td>0</td>\n    </tr>\n    <tr>\n      <th>4</th>\n      <td>0.377440</td>\n      <td>0.342185</td>\n      <td>0.287144</td>\n      <td>0.223227</td>\n      <td>0.198685</td>\n      <td>0.200168</td>\n      <td>0.221059</td>\n      <td>0.284502</td>\n      <td>0.341772</td>\n      <td>0.375194</td>\n      <td>...</td>\n      <td>0.217035</td>\n      <td>0.155439</td>\n      <td>0.156955</td>\n      <td>0.220011</td>\n      <td>0.182061</td>\n      <td>0.095076</td>\n      <td>0.100465</td>\n      <td>0.121072</td>\n      <td>0.120199</td>\n      <td>0</td>\n    </tr>\n    <tr>\n      <th>...</th>\n      <td>...</td>\n      <td>...</td>\n      <td>...</td>\n      <td>...</td>\n      <td>...</td>\n      <td>...</td>\n      <td>...</td>\n      <td>...</td>\n      <td>...</td>\n      <td>...</td>\n      <td>...</td>\n      <td>...</td>\n      <td>...</td>\n      <td>...</td>\n      <td>...</td>\n      <td>...</td>\n      <td>...</td>\n      <td>...</td>\n      <td>...</td>\n      <td>...</td>\n      <td>...</td>\n    </tr>\n    <tr>\n      <th>95</th>\n      <td>0.390988</td>\n      <td>0.349935</td>\n      <td>0.317614</td>\n      <td>0.263042</td>\n      <td>0.276332</td>\n      <td>0.284854</td>\n      <td>0.279467</td>\n      <td>0.341382</td>\n      <td>0.388164</td>\n      <td>0.429656</td>\n      <td>...</td>\n      <td>0.141496</td>\n      <td>0.078040</td>\n      <td>0.108057</td>\n      <td>0.201776</td>\n      <td>0.222987</td>\n      <td>0.097596</td>\n      <td>0.125273</td>\n      <td>0.106331</td>\n      <td>0.113713</td>\n      <td>0</td>\n    </tr>\n    <tr>\n      <th>96</th>\n      <td>0.369993</td>\n      <td>0.324752</td>\n      <td>0.269125</td>\n      <td>0.210827</td>\n      <td>0.224736</td>\n      <td>0.222158</td>\n      <td>0.217633</td>\n      <td>0.262835</td>\n      <td>0.292034</td>\n      <td>0.323926</td>\n      <td>...</td>\n      <td>0.216846</td>\n      <td>0.136956</td>\n      <td>0.111812</td>\n      <td>0.159105</td>\n      <td>0.183178</td>\n      <td>0.129064</td>\n      <td>0.045977</td>\n      <td>0.102985</td>\n      <td>0.091534</td>\n      <td>0</td>\n    </tr>\n    <tr>\n      <th>97</th>\n      <td>0.353007</td>\n      <td>0.322551</td>\n      <td>0.295687</td>\n      <td>0.244856</td>\n      <td>0.255100</td>\n      <td>0.267501</td>\n      <td>0.260225</td>\n      <td>0.323595</td>\n      <td>0.380316</td>\n      <td>0.423984</td>\n      <td>...</td>\n      <td>0.148575</td>\n      <td>0.129971</td>\n      <td>0.152336</td>\n      <td>0.218769</td>\n      <td>0.238864</td>\n      <td>0.084082</td>\n      <td>0.143073</td>\n      <td>0.133218</td>\n      <td>0.131186</td>\n      <td>0</td>\n    </tr>\n    <tr>\n      <th>98</th>\n      <td>0.447748</td>\n      <td>0.400621</td>\n      <td>0.346027</td>\n      <td>0.276598</td>\n      <td>0.285942</td>\n      <td>0.273743</td>\n      <td>0.283970</td>\n      <td>0.347823</td>\n      <td>0.390250</td>\n      <td>0.428632</td>\n      <td>...</td>\n      <td>0.237176</td>\n      <td>0.137886</td>\n      <td>0.148629</td>\n      <td>0.214727</td>\n      <td>0.258505</td>\n      <td>0.158207</td>\n      <td>0.107690</td>\n      <td>0.143943</td>\n      <td>0.150906</td>\n      <td>0</td>\n    </tr>\n    <tr>\n      <th>99</th>\n      <td>0.377280</td>\n      <td>0.341048</td>\n      <td>0.296497</td>\n      <td>0.236021</td>\n      <td>0.229281</td>\n      <td>0.238362</td>\n      <td>0.248162</td>\n      <td>0.310602</td>\n      <td>0.366165</td>\n      <td>0.403148</td>\n      <td>...</td>\n      <td>0.175835</td>\n      <td>0.126003</td>\n      <td>0.135520</td>\n      <td>0.193490</td>\n      <td>0.214912</td>\n      <td>0.078470</td>\n      <td>0.120060</td>\n      <td>0.114204</td>\n      <td>0.123671</td>\n      <td>0</td>\n    </tr>\n  </tbody>\n</table>\n<p>100 rows × 61 columns</p>\n</div>"
     },
     "execution_count": 35,
     "metadata": {},
     "output_type": "execute_result"
    }
   ],
   "source": [
    "from sklearn.preprocessing import LabelEncoder\n",
    "\n",
    "# er_df = er_df.dropna(axis=0, subset=['d48'])\n",
    "er_df = er_df.drop(['id'],axis=1)\n",
    "#\n",
    "#\n",
    "labelencoder = LabelEncoder()\n",
    "er_df['class'] = labelencoder.fit_transform(er_df['class'])\n",
    "er_df.head(100)\n",
    "\n",
    "# categorial = ['class']\n",
    "# er_df = pd.get_dummies(er_df, columns=categorial)"
   ],
   "metadata": {
    "collapsed": false,
    "pycharm": {
     "name": "#%%\n"
    }
   }
  },
  {
   "cell_type": "code",
   "execution_count": 36,
   "outputs": [],
   "source": [
    "# y = []\n",
    "# for x in er_df.columns:\n",
    "#     if er_df[x].nunique()==2:\n",
    "#         y.append(x)\n",
    "# y"
   ],
   "metadata": {
    "collapsed": false,
    "pycharm": {
     "name": "#%%\n"
    }
   }
  },
  {
   "cell_type": "code",
   "execution_count": 37,
   "outputs": [],
   "source": [
    "from sklearn.model_selection import train_test_split\n",
    "from sklearn.utils import shuffle\n",
    "\n",
    "er_df = shuffle(er_df)\n",
    "\n",
    "er_df.fillna(er_df.mean(), inplace=True)\n",
    "\n",
    "from imblearn.over_sampling import SMOTE\n",
    "SMOTE = SMOTE(random_state=888)\n",
    "X_resampled, y_resampled = SMOTE.fit_resample(er_df.drop(['class'],axis=1),er_df['class'])\n",
    "\n",
    "# categorial = ['class_Angry', 'class_Disgust', 'class_Fear', 'class_Happy', 'class_Neutral', 'class_Sad', 'class_Surprise']\n",
    "\n",
    "# X_resampled, y_resampled = RandomUnderSampler.fit_resample(er_df.drop(categorial,axis=1),er_df['class_Neutral'])\n",
    "\n",
    "X_train, X_test, y_train, y_test = train_test_split(X_resampled, y_resampled, test_size=0.3,shuffle=True)\n",
    "\n",
    "# Normalize the data\n",
    "from sklearn.preprocessing import StandardScaler\n",
    "#\n",
    "# sc = StandardScaler()\n",
    "# X_train = sc.fit_transform(X_train)\n",
    "# X_test = sc.transform(X_test)\n",
    "# ems = ['class_Disgust','class_Fear','class_Happy','class_Neutral','class_Sad','class_Surprise','class_Angry']\n",
    "# print('1/0')\n",
    "# print(er_df.shape[0]/7)\n",
    "# for x in ems:\n",
    "#\n",
    "# print(em, er_df[er_df[em] ==1].shape[0],'/',er_df[er_df[em] ==0].shape[0])\n",
    "# print(em, er_df_temp[er_df_temp[em] ==1].shape[0],'/',er_df_temp[er_df_temp[em] ==0].shape[0])\n",
    "# print(em, X_resampled.shape,er_df_temp[er_df_temp[em] ==0].shape[0])"
   ],
   "metadata": {
    "collapsed": false,
    "pycharm": {
     "name": "#%%\n"
    }
   }
  },
  {
   "cell_type": "code",
   "execution_count": 38,
   "outputs": [],
   "source": [
    "# from sklearn.model_selection import cross_val_score\n",
    "# from sklearn.pipeline import make_pipeline\n",
    "# from sklearn.preprocessing import StandardScaler\n",
    "# from sklearn.svm import SVC\n",
    "# from sklearn.ensemble import RandomForestClassifier\n",
    "# from sklearn.model_selection import StratifiedKFold\n",
    "# #\n",
    "# # Create an instance of Pipeline\n",
    "# #\n",
    "# pipeline = make_pipeline(StandardScaler(), RandomForestClassifier())\n",
    "# #\n",
    "# # Create an instance of StratifiedKFold which can be used to get indices of different training and test folds\n",
    "# #\n",
    "# strtfdKFold = StratifiedKFold(n_splits=10)\n",
    "# kfold = strtfdKFold.split(X_train, y_train)\n",
    "# scores = []\n",
    "# #\n",
    "# #\n",
    "# #\n",
    "# for k, (train, test) in enumerate(kfold):\n",
    "#     pipeline.fit(X_train.iloc[train, :], y_train.iloc[train])\n",
    "#     score = pipeline.score(X_train.iloc[test, :], y_train.iloc[test])\n",
    "#     scores.append(score)\n",
    "#     print('Fold: %2d, Training/Test Split Distribution: %s, Accuracy: %.3f' % (k+1, np.bincount(y_train.iloc[train]), score))\n",
    "#\n",
    "# print('\\n\\nCross-Validation accuracy: %.3f +/- %.3f' %(np.mean(scores), np.std(scores)))"
   ],
   "metadata": {
    "collapsed": false,
    "pycharm": {
     "name": "#%%\n"
    }
   }
  },
  {
   "cell_type": "markdown",
   "source": [
    "### Let's Try a Random Forest Classifer"
   ],
   "metadata": {
    "collapsed": false
   }
  },
  {
   "cell_type": "code",
   "execution_count": 39,
   "outputs": [
    {
     "name": "stdout",
     "output_type": "stream",
     "text": [
      "Accuracy 71.25%\n",
      "[[1683  376   71  114  218  163   60]\n",
      " [   2 2693    1    0   11    6    2]\n",
      " [ 163  340 1406   99  243  226  215]\n",
      " [  90  112   64 2043  177   85   67]\n",
      " [ 143  125  101  122 1870  299   86]\n",
      " [ 164  356  105  138  415 1478   56]\n",
      " [  45  155   42   50   76   45 2276]]\n",
      "              precision    recall  f1-score   support\n",
      "\n",
      "           0       0.73      0.63      0.68      2685\n",
      "           1       0.65      0.99      0.78      2715\n",
      "           2       0.79      0.52      0.63      2692\n",
      "           3       0.80      0.77      0.79      2638\n",
      "           4       0.62      0.68      0.65      2746\n",
      "           5       0.64      0.54      0.59      2712\n",
      "           6       0.82      0.85      0.84      2689\n",
      "\n",
      "    accuracy                           0.71     18877\n",
      "   macro avg       0.72      0.71      0.71     18877\n",
      "weighted avg       0.72      0.71      0.71     18877\n",
      "\n"
     ]
    }
   ],
   "source": [
    "from sklearn.ensemble import RandomForestClassifier\n",
    "\n",
    "\n",
    "\n",
    "model = RandomForestClassifier()\n",
    "# parameters = {\n",
    "#     \"n_estimators\":[5,10,50,100,250],\n",
    "#     \"max_depth\":[2,4,8,16,32,None]\n",
    "#\n",
    "# }\n",
    "#\n",
    "# from sklearn.model_selection import GridSearchCV\n",
    "# cv = GridSearchCV(model,parameters,cv=5)\n",
    "# cv.fit(X_train,y_train.values.ravel())\n",
    "\n",
    "model.fit(X_train, y_train)\n",
    "\n",
    "predictions = model.predict(X_test)\n",
    "score = model.score(X_test, y_test)\n",
    "\n",
    "print(\"Accuracy {0:.2f}%\".format(100*accuracy_score(predictions, y_test)))\n",
    "print(confusion_matrix(y_test, predictions))\n",
    "print(classification_report(y_test, predictions))"
   ],
   "metadata": {
    "collapsed": false,
    "pycharm": {
     "name": "#%%\n"
    }
   }
  },
  {
   "cell_type": "markdown",
   "source": [
    "## Save Model and History"
   ],
   "metadata": {
    "collapsed": false
   }
  },
  {
   "cell_type": "code",
   "execution_count": 41,
   "outputs": [
    {
     "data": {
      "text/plain": "['./fer2013_model.joblib']"
     },
     "execution_count": 41,
     "metadata": {},
     "output_type": "execute_result"
    }
   ],
   "source": [
    "import joblib\n",
    "\n",
    "joblib.dump(model, \"./fer2013_model.joblib\")"
   ],
   "metadata": {
    "collapsed": false,
    "pycharm": {
     "name": "#%%\n"
    }
   }
  },
  {
   "cell_type": "code",
   "execution_count": 40,
   "outputs": [],
   "source": [],
   "metadata": {
    "collapsed": false,
    "pycharm": {
     "name": "#%%\n"
    }
   }
  }
 ]
}